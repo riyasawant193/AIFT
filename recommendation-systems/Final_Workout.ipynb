{
  "nbformat": 4,
  "nbformat_minor": 0,
  "metadata": {
    "colab": {
      "provenance": []
    },
    "kernelspec": {
      "name": "python3",
      "display_name": "Python 3"
    },
    "language_info": {
      "name": "python"
    }
  },
  "cells": [
    {
      "cell_type": "code",
      "source": [
        "!pip install tensorflow-recommenders\n",
        "!pip install tensorflow\n",
        "!pip install pandas\n",
        "!pip install scikit-learn"
      ],
      "metadata": {
        "colab": {
          "base_uri": "https://localhost:8080/"
        },
        "id": "v2vr3gxpgA9T",
        "outputId": "505074cc-ae99-4931-cbf6-38941fe5177f"
      },
      "execution_count": 15,
      "outputs": [
        {
          "output_type": "stream",
          "name": "stdout",
          "text": [
            "Requirement already satisfied: tensorflow-recommenders in /usr/local/lib/python3.10/dist-packages (0.7.3)\n",
            "Requirement already satisfied: absl-py>=0.1.6 in /usr/local/lib/python3.10/dist-packages (from tensorflow-recommenders) (1.4.0)\n",
            "Requirement already satisfied: tensorflow>=2.9.0 in /usr/local/lib/python3.10/dist-packages (from tensorflow-recommenders) (2.17.0)\n",
            "Requirement already satisfied: astunparse>=1.6.0 in /usr/local/lib/python3.10/dist-packages (from tensorflow>=2.9.0->tensorflow-recommenders) (1.6.3)\n",
            "Requirement already satisfied: flatbuffers>=24.3.25 in /usr/local/lib/python3.10/dist-packages (from tensorflow>=2.9.0->tensorflow-recommenders) (24.3.25)\n",
            "Requirement already satisfied: gast!=0.5.0,!=0.5.1,!=0.5.2,>=0.2.1 in /usr/local/lib/python3.10/dist-packages (from tensorflow>=2.9.0->tensorflow-recommenders) (0.6.0)\n",
            "Requirement already satisfied: google-pasta>=0.1.1 in /usr/local/lib/python3.10/dist-packages (from tensorflow>=2.9.0->tensorflow-recommenders) (0.2.0)\n",
            "Requirement already satisfied: h5py>=3.10.0 in /usr/local/lib/python3.10/dist-packages (from tensorflow>=2.9.0->tensorflow-recommenders) (3.11.0)\n",
            "Requirement already satisfied: libclang>=13.0.0 in /usr/local/lib/python3.10/dist-packages (from tensorflow>=2.9.0->tensorflow-recommenders) (18.1.1)\n",
            "Requirement already satisfied: ml-dtypes<0.5.0,>=0.3.1 in /usr/local/lib/python3.10/dist-packages (from tensorflow>=2.9.0->tensorflow-recommenders) (0.4.1)\n",
            "Requirement already satisfied: opt-einsum>=2.3.2 in /usr/local/lib/python3.10/dist-packages (from tensorflow>=2.9.0->tensorflow-recommenders) (3.4.0)\n",
            "Requirement already satisfied: packaging in /usr/local/lib/python3.10/dist-packages (from tensorflow>=2.9.0->tensorflow-recommenders) (24.1)\n",
            "Requirement already satisfied: protobuf!=4.21.0,!=4.21.1,!=4.21.2,!=4.21.3,!=4.21.4,!=4.21.5,<5.0.0dev,>=3.20.3 in /usr/local/lib/python3.10/dist-packages (from tensorflow>=2.9.0->tensorflow-recommenders) (3.20.3)\n",
            "Requirement already satisfied: requests<3,>=2.21.0 in /usr/local/lib/python3.10/dist-packages (from tensorflow>=2.9.0->tensorflow-recommenders) (2.32.3)\n",
            "Requirement already satisfied: setuptools in /usr/local/lib/python3.10/dist-packages (from tensorflow>=2.9.0->tensorflow-recommenders) (71.0.4)\n",
            "Requirement already satisfied: six>=1.12.0 in /usr/local/lib/python3.10/dist-packages (from tensorflow>=2.9.0->tensorflow-recommenders) (1.16.0)\n",
            "Requirement already satisfied: termcolor>=1.1.0 in /usr/local/lib/python3.10/dist-packages (from tensorflow>=2.9.0->tensorflow-recommenders) (2.4.0)\n",
            "Requirement already satisfied: typing-extensions>=3.6.6 in /usr/local/lib/python3.10/dist-packages (from tensorflow>=2.9.0->tensorflow-recommenders) (4.12.2)\n",
            "Requirement already satisfied: wrapt>=1.11.0 in /usr/local/lib/python3.10/dist-packages (from tensorflow>=2.9.0->tensorflow-recommenders) (1.16.0)\n",
            "Requirement already satisfied: grpcio<2.0,>=1.24.3 in /usr/local/lib/python3.10/dist-packages (from tensorflow>=2.9.0->tensorflow-recommenders) (1.64.1)\n",
            "Requirement already satisfied: tensorboard<2.18,>=2.17 in /usr/local/lib/python3.10/dist-packages (from tensorflow>=2.9.0->tensorflow-recommenders) (2.17.0)\n",
            "Requirement already satisfied: keras>=3.2.0 in /usr/local/lib/python3.10/dist-packages (from tensorflow>=2.9.0->tensorflow-recommenders) (3.4.1)\n",
            "Requirement already satisfied: tensorflow-io-gcs-filesystem>=0.23.1 in /usr/local/lib/python3.10/dist-packages (from tensorflow>=2.9.0->tensorflow-recommenders) (0.37.1)\n",
            "Requirement already satisfied: numpy<2.0.0,>=1.23.5 in /usr/local/lib/python3.10/dist-packages (from tensorflow>=2.9.0->tensorflow-recommenders) (1.26.4)\n",
            "Requirement already satisfied: wheel<1.0,>=0.23.0 in /usr/local/lib/python3.10/dist-packages (from astunparse>=1.6.0->tensorflow>=2.9.0->tensorflow-recommenders) (0.44.0)\n",
            "Requirement already satisfied: rich in /usr/local/lib/python3.10/dist-packages (from keras>=3.2.0->tensorflow>=2.9.0->tensorflow-recommenders) (13.9.1)\n",
            "Requirement already satisfied: namex in /usr/local/lib/python3.10/dist-packages (from keras>=3.2.0->tensorflow>=2.9.0->tensorflow-recommenders) (0.0.8)\n",
            "Requirement already satisfied: optree in /usr/local/lib/python3.10/dist-packages (from keras>=3.2.0->tensorflow>=2.9.0->tensorflow-recommenders) (0.13.0)\n",
            "Requirement already satisfied: charset-normalizer<4,>=2 in /usr/local/lib/python3.10/dist-packages (from requests<3,>=2.21.0->tensorflow>=2.9.0->tensorflow-recommenders) (3.3.2)\n",
            "Requirement already satisfied: idna<4,>=2.5 in /usr/local/lib/python3.10/dist-packages (from requests<3,>=2.21.0->tensorflow>=2.9.0->tensorflow-recommenders) (3.10)\n",
            "Requirement already satisfied: urllib3<3,>=1.21.1 in /usr/local/lib/python3.10/dist-packages (from requests<3,>=2.21.0->tensorflow>=2.9.0->tensorflow-recommenders) (2.2.3)\n",
            "Requirement already satisfied: certifi>=2017.4.17 in /usr/local/lib/python3.10/dist-packages (from requests<3,>=2.21.0->tensorflow>=2.9.0->tensorflow-recommenders) (2024.8.30)\n",
            "Requirement already satisfied: markdown>=2.6.8 in /usr/local/lib/python3.10/dist-packages (from tensorboard<2.18,>=2.17->tensorflow>=2.9.0->tensorflow-recommenders) (3.7)\n",
            "Requirement already satisfied: tensorboard-data-server<0.8.0,>=0.7.0 in /usr/local/lib/python3.10/dist-packages (from tensorboard<2.18,>=2.17->tensorflow>=2.9.0->tensorflow-recommenders) (0.7.2)\n",
            "Requirement already satisfied: werkzeug>=1.0.1 in /usr/local/lib/python3.10/dist-packages (from tensorboard<2.18,>=2.17->tensorflow>=2.9.0->tensorflow-recommenders) (3.0.4)\n",
            "Requirement already satisfied: MarkupSafe>=2.1.1 in /usr/local/lib/python3.10/dist-packages (from werkzeug>=1.0.1->tensorboard<2.18,>=2.17->tensorflow>=2.9.0->tensorflow-recommenders) (2.1.5)\n",
            "Requirement already satisfied: markdown-it-py>=2.2.0 in /usr/local/lib/python3.10/dist-packages (from rich->keras>=3.2.0->tensorflow>=2.9.0->tensorflow-recommenders) (3.0.0)\n",
            "Requirement already satisfied: pygments<3.0.0,>=2.13.0 in /usr/local/lib/python3.10/dist-packages (from rich->keras>=3.2.0->tensorflow>=2.9.0->tensorflow-recommenders) (2.18.0)\n",
            "Requirement already satisfied: mdurl~=0.1 in /usr/local/lib/python3.10/dist-packages (from markdown-it-py>=2.2.0->rich->keras>=3.2.0->tensorflow>=2.9.0->tensorflow-recommenders) (0.1.2)\n",
            "Requirement already satisfied: tensorflow in /usr/local/lib/python3.10/dist-packages (2.17.0)\n",
            "Requirement already satisfied: absl-py>=1.0.0 in /usr/local/lib/python3.10/dist-packages (from tensorflow) (1.4.0)\n",
            "Requirement already satisfied: astunparse>=1.6.0 in /usr/local/lib/python3.10/dist-packages (from tensorflow) (1.6.3)\n",
            "Requirement already satisfied: flatbuffers>=24.3.25 in /usr/local/lib/python3.10/dist-packages (from tensorflow) (24.3.25)\n",
            "Requirement already satisfied: gast!=0.5.0,!=0.5.1,!=0.5.2,>=0.2.1 in /usr/local/lib/python3.10/dist-packages (from tensorflow) (0.6.0)\n",
            "Requirement already satisfied: google-pasta>=0.1.1 in /usr/local/lib/python3.10/dist-packages (from tensorflow) (0.2.0)\n",
            "Requirement already satisfied: h5py>=3.10.0 in /usr/local/lib/python3.10/dist-packages (from tensorflow) (3.11.0)\n",
            "Requirement already satisfied: libclang>=13.0.0 in /usr/local/lib/python3.10/dist-packages (from tensorflow) (18.1.1)\n",
            "Requirement already satisfied: ml-dtypes<0.5.0,>=0.3.1 in /usr/local/lib/python3.10/dist-packages (from tensorflow) (0.4.1)\n",
            "Requirement already satisfied: opt-einsum>=2.3.2 in /usr/local/lib/python3.10/dist-packages (from tensorflow) (3.4.0)\n",
            "Requirement already satisfied: packaging in /usr/local/lib/python3.10/dist-packages (from tensorflow) (24.1)\n",
            "Requirement already satisfied: protobuf!=4.21.0,!=4.21.1,!=4.21.2,!=4.21.3,!=4.21.4,!=4.21.5,<5.0.0dev,>=3.20.3 in /usr/local/lib/python3.10/dist-packages (from tensorflow) (3.20.3)\n",
            "Requirement already satisfied: requests<3,>=2.21.0 in /usr/local/lib/python3.10/dist-packages (from tensorflow) (2.32.3)\n",
            "Requirement already satisfied: setuptools in /usr/local/lib/python3.10/dist-packages (from tensorflow) (71.0.4)\n",
            "Requirement already satisfied: six>=1.12.0 in /usr/local/lib/python3.10/dist-packages (from tensorflow) (1.16.0)\n",
            "Requirement already satisfied: termcolor>=1.1.0 in /usr/local/lib/python3.10/dist-packages (from tensorflow) (2.4.0)\n",
            "Requirement already satisfied: typing-extensions>=3.6.6 in /usr/local/lib/python3.10/dist-packages (from tensorflow) (4.12.2)\n",
            "Requirement already satisfied: wrapt>=1.11.0 in /usr/local/lib/python3.10/dist-packages (from tensorflow) (1.16.0)\n",
            "Requirement already satisfied: grpcio<2.0,>=1.24.3 in /usr/local/lib/python3.10/dist-packages (from tensorflow) (1.64.1)\n",
            "Requirement already satisfied: tensorboard<2.18,>=2.17 in /usr/local/lib/python3.10/dist-packages (from tensorflow) (2.17.0)\n",
            "Requirement already satisfied: keras>=3.2.0 in /usr/local/lib/python3.10/dist-packages (from tensorflow) (3.4.1)\n",
            "Requirement already satisfied: tensorflow-io-gcs-filesystem>=0.23.1 in /usr/local/lib/python3.10/dist-packages (from tensorflow) (0.37.1)\n",
            "Requirement already satisfied: numpy<2.0.0,>=1.23.5 in /usr/local/lib/python3.10/dist-packages (from tensorflow) (1.26.4)\n",
            "Requirement already satisfied: wheel<1.0,>=0.23.0 in /usr/local/lib/python3.10/dist-packages (from astunparse>=1.6.0->tensorflow) (0.44.0)\n",
            "Requirement already satisfied: rich in /usr/local/lib/python3.10/dist-packages (from keras>=3.2.0->tensorflow) (13.9.1)\n",
            "Requirement already satisfied: namex in /usr/local/lib/python3.10/dist-packages (from keras>=3.2.0->tensorflow) (0.0.8)\n",
            "Requirement already satisfied: optree in /usr/local/lib/python3.10/dist-packages (from keras>=3.2.0->tensorflow) (0.13.0)\n",
            "Requirement already satisfied: charset-normalizer<4,>=2 in /usr/local/lib/python3.10/dist-packages (from requests<3,>=2.21.0->tensorflow) (3.3.2)\n",
            "Requirement already satisfied: idna<4,>=2.5 in /usr/local/lib/python3.10/dist-packages (from requests<3,>=2.21.0->tensorflow) (3.10)\n",
            "Requirement already satisfied: urllib3<3,>=1.21.1 in /usr/local/lib/python3.10/dist-packages (from requests<3,>=2.21.0->tensorflow) (2.2.3)\n",
            "Requirement already satisfied: certifi>=2017.4.17 in /usr/local/lib/python3.10/dist-packages (from requests<3,>=2.21.0->tensorflow) (2024.8.30)\n",
            "Requirement already satisfied: markdown>=2.6.8 in /usr/local/lib/python3.10/dist-packages (from tensorboard<2.18,>=2.17->tensorflow) (3.7)\n",
            "Requirement already satisfied: tensorboard-data-server<0.8.0,>=0.7.0 in /usr/local/lib/python3.10/dist-packages (from tensorboard<2.18,>=2.17->tensorflow) (0.7.2)\n",
            "Requirement already satisfied: werkzeug>=1.0.1 in /usr/local/lib/python3.10/dist-packages (from tensorboard<2.18,>=2.17->tensorflow) (3.0.4)\n",
            "Requirement already satisfied: MarkupSafe>=2.1.1 in /usr/local/lib/python3.10/dist-packages (from werkzeug>=1.0.1->tensorboard<2.18,>=2.17->tensorflow) (2.1.5)\n",
            "Requirement already satisfied: markdown-it-py>=2.2.0 in /usr/local/lib/python3.10/dist-packages (from rich->keras>=3.2.0->tensorflow) (3.0.0)\n",
            "Requirement already satisfied: pygments<3.0.0,>=2.13.0 in /usr/local/lib/python3.10/dist-packages (from rich->keras>=3.2.0->tensorflow) (2.18.0)\n",
            "Requirement already satisfied: mdurl~=0.1 in /usr/local/lib/python3.10/dist-packages (from markdown-it-py>=2.2.0->rich->keras>=3.2.0->tensorflow) (0.1.2)\n",
            "Requirement already satisfied: pandas in /usr/local/lib/python3.10/dist-packages (2.2.2)\n",
            "Requirement already satisfied: numpy>=1.22.4 in /usr/local/lib/python3.10/dist-packages (from pandas) (1.26.4)\n",
            "Requirement already satisfied: python-dateutil>=2.8.2 in /usr/local/lib/python3.10/dist-packages (from pandas) (2.8.2)\n",
            "Requirement already satisfied: pytz>=2020.1 in /usr/local/lib/python3.10/dist-packages (from pandas) (2024.2)\n",
            "Requirement already satisfied: tzdata>=2022.7 in /usr/local/lib/python3.10/dist-packages (from pandas) (2024.2)\n",
            "Requirement already satisfied: six>=1.5 in /usr/local/lib/python3.10/dist-packages (from python-dateutil>=2.8.2->pandas) (1.16.0)\n",
            "Requirement already satisfied: scikit-learn in /usr/local/lib/python3.10/dist-packages (1.5.2)\n",
            "Requirement already satisfied: numpy>=1.19.5 in /usr/local/lib/python3.10/dist-packages (from scikit-learn) (1.26.4)\n",
            "Requirement already satisfied: scipy>=1.6.0 in /usr/local/lib/python3.10/dist-packages (from scikit-learn) (1.13.1)\n",
            "Requirement already satisfied: joblib>=1.2.0 in /usr/local/lib/python3.10/dist-packages (from scikit-learn) (1.4.2)\n",
            "Requirement already satisfied: threadpoolctl>=3.1.0 in /usr/local/lib/python3.10/dist-packages (from scikit-learn) (3.5.0)\n"
          ]
        }
      ]
    },
    {
      "cell_type": "code",
      "source": [
        "import pandas as pd\n",
        "from sklearn.model_selection import train_test_split\n",
        "import tensorflow as tf\n",
        "import tensorflow_recommenders as tfrs\n",
        "import pandas as pd\n",
        "import numpy as np\n",
        "from sklearn.preprocessing import OneHotEncoder\n",
        "from sklearn.model_selection import train_test_split\n",
        "from sklearn.preprocessing import LabelEncoder\n",
        "import tensorflow as tf\n",
        "import pandas as pd\n",
        "import numpy as np\n",
        "from sklearn.preprocessing import OneHotEncoder\n",
        "from sklearn.model_selection import train_test_split\n",
        "from sklearn.preprocessing import LabelEncoder\n",
        "import tensorflow as tf"
      ],
      "metadata": {
        "id": "d1Hfs_vFokgC"
      },
      "execution_count": 16,
      "outputs": []
    },
    {
      "cell_type": "code",
      "source": [
        "# Load the dataset (adjust the path based on your environment)\n",
        "df = pd.read_csv('modified_dataset_with_levels.csv')\n",
        "\n",
        "# Display the first few rows of the dataset\n",
        "print(df.head())\n",
        "\n",
        "# Check for missing values\n",
        "print(df.isnull().sum())\n"
      ],
      "metadata": {
        "colab": {
          "base_uri": "https://localhost:8080/"
        },
        "id": "yaH6olUYgD1l",
        "outputId": "49d9a2ad-bbf1-43fc-cd3a-66153aa97b32"
      },
      "execution_count": 17,
      "outputs": [
        {
          "output_type": "stream",
          "name": "stdout",
          "text": [
            "   id  age  height  weight  fitness_goal workout_level  \\\n",
            "0   0   23     169      87  build muscle      advanced   \n",
            "1   1   50     182      87   lose weight      beginner   \n",
            "2   2   33     177      62   lose weight  intermediate   \n",
            "3   3   25     172      75  build muscle      beginner   \n",
            "4   4   29     163      51      maintain      beginner   \n",
            "\n",
            "                       health_conditions  \\\n",
            "0                          Heart Disease   \n",
            "1                            Sleep Apnea   \n",
            "2  Gastroesophageal Reflux Disease(GERD)   \n",
            "3                                 Anemia   \n",
            "4                            Cholesterol   \n",
            "\n",
            "                          recommend_workout  \\\n",
            "0                   crunches, lunges, plank   \n",
            "1  lunges, plank, pushups, crunches, squats   \n",
            "2  lunges, plank, pushups, crunches, squats   \n",
            "3            squats, plank, lunges, pushups   \n",
            "4                   crunches, lunges, plank   \n",
            "\n",
            "                                         repetitions  \\\n",
            "0               crunches: 35, lunges: 20, plank: 60s   \n",
            "1  lunges: 10, plank: 30s, pushups: 10, crunches:...   \n",
            "2  lunges: 15, plank: 45s, pushups: 20, crunches:...   \n",
            "3    squats: 10, plank: 30s, lunges: 10, pushups: 10   \n",
            "4               crunches: 15, lunges: 10, plank: 30s   \n",
            "\n",
            "                                                sets  \\\n",
            "0                   crunches: 4, lunges: 4, plank: 4   \n",
            "1  lunges: 2, plank: 2, pushups: 2, crunches: 2, ...   \n",
            "2  lunges: 3, plank: 3, pushups: 3, crunches: 3, ...   \n",
            "3         squats: 2, plank: 2, lunges: 2, pushups: 2   \n",
            "4                   crunches: 2, lunges: 2, plank: 2   \n",
            "\n",
            "                                           image_url  \n",
            "0  https://fitnessdrum.com/wp-content/uploads/202...  \n",
            "1  https://www.google.com/url?sa=i&url=https%3A%2...  \n",
            "2  https://www.google.com/url?sa=i&url=https%3A%2...  \n",
            "3  https://media1.popsugar-assets.com/files/thumb...  \n",
            "4  https://fitnessdrum.com/wp-content/uploads/202...  \n",
            "id                      0\n",
            "age                     0\n",
            "height                  0\n",
            "weight                  0\n",
            "fitness_goal            0\n",
            "workout_level           0\n",
            "health_conditions    7639\n",
            "recommend_workout       0\n",
            "repetitions             0\n",
            "sets                    0\n",
            "image_url               0\n",
            "dtype: int64\n"
          ]
        }
      ]
    },
    {
      "cell_type": "code",
      "source": [
        "# Fill any missing values in the 'health_conditions' column with 'unknown'\n",
        "df['health_conditions'] = df['health_conditions'].fillna('unknown')\n",
        "\n",
        "# Drop unnecessary columns if any (e.g., 'id')\n",
        "df = df.drop(columns=['id'], errors='ignore')  # Assuming 'id' column exists, modify if needed\n"
      ],
      "metadata": {
        "id": "6Z7ZE9iPgafo"
      },
      "execution_count": 18,
      "outputs": []
    },
    {
      "cell_type": "code",
      "source": [
        "# Check for missing values\n",
        "print(df.isnull().sum())"
      ],
      "metadata": {
        "colab": {
          "base_uri": "https://localhost:8080/"
        },
        "id": "Ho5s_EDngbHN",
        "outputId": "7ce982f1-886e-475f-a346-d5b230fc6a16"
      },
      "execution_count": 19,
      "outputs": [
        {
          "output_type": "stream",
          "name": "stdout",
          "text": [
            "age                  0\n",
            "height               0\n",
            "weight               0\n",
            "fitness_goal         0\n",
            "workout_level        0\n",
            "health_conditions    0\n",
            "recommend_workout    0\n",
            "repetitions          0\n",
            "sets                 0\n",
            "image_url            0\n",
            "dtype: int64\n"
          ]
        }
      ]
    },
    {
      "cell_type": "code",
      "source": [
        "\n",
        "\n",
        "# Load the modified dataset (the one you created with repetitions, sets, and image URLs)\n",
        "df = pd.read_csv('modified_dataset_with_levels.csv')\n",
        "\n",
        "# Define features and target variable\n",
        "# We only consider numeric and categorical variables as input features, excluding repetition counts, sets, and images\n",
        "X = df[['age', 'height', 'weight']]  # Numerical features\n",
        "y = df['recommend_workout']  # Target variable\n",
        "\n",
        "# One-hot encode the categorical variables (fitness_goal, workout_level, health_conditions)\n",
        "encoder = OneHotEncoder(sparse_output=False)\n",
        "\n",
        "# Assuming fitness_goal, workout_level, and health_conditions are in the dataset\n",
        "encoded_categorical = encoder.fit_transform(df[['fitness_goal', 'workout_level', 'health_conditions']])\n",
        "\n",
        "# Combine numerical and one-hot encoded categorical features\n",
        "X = np.hstack((X.values, encoded_categorical))\n",
        "\n",
        "# Encode target variable (recommend_workout) into numeric values using LabelEncoder\n",
        "label_encoder = LabelEncoder()\n",
        "y_encoded = label_encoder.fit_transform(y)\n",
        "\n",
        "# Convert the encoded target variable (recommend_workout) to a categorical format\n",
        "num_classes = len(np.unique(y_encoded))\n",
        "y_categorical = tf.keras.utils.to_categorical(y_encoded, num_classes)\n",
        "\n",
        "# Now you can use X and y_categorical to train a neural network model.\n",
        "print(f\"Shape of input features X: {X.shape}\")\n",
        "print(f\"Shape of target variable y (categorical): {y_categorical.shape}\")\n"
      ],
      "metadata": {
        "colab": {
          "base_uri": "https://localhost:8080/"
        },
        "id": "G8J6tNQhgdRC",
        "outputId": "b616039e-649d-4902-a02c-72f6d96ce1eb"
      },
      "execution_count": 20,
      "outputs": [
        {
          "output_type": "stream",
          "name": "stdout",
          "text": [
            "Shape of input features X: (70000, 18)\n",
            "Shape of target variable y (categorical): (70000, 5)\n"
          ]
        }
      ]
    },
    {
      "cell_type": "code",
      "source": [
        "# Split the data into training and testing sets (80% training, 20% testing)\n",
        "X_train, X_test, y_train, y_test = train_test_split(X, y_categorical, test_size=0.2, random_state=42)\n",
        "\n",
        "# Define the neural network model\n",
        "model = tf.keras.Sequential([\n",
        "    tf.keras.layers.Input(shape=(X.shape[1],)),  # Input layer\n",
        "    tf.keras.layers.Dense(128, activation='relu'),  # First hidden layer with 128 units\n",
        "    tf.keras.layers.Dense(64, activation='relu'),  # Second hidden layer with 64 units\n",
        "    tf.keras.layers.Dense(num_classes, activation='softmax')  # Output layer with softmax for classification\n",
        "])\n",
        "\n"
      ],
      "metadata": {
        "id": "g2mauUE4kz0B"
      },
      "execution_count": 21,
      "outputs": []
    },
    {
      "cell_type": "code",
      "source": [
        "# Compile the model with Adam optimizer and categorical cross-entropy loss\n",
        "model.compile(optimizer='adam', loss='categorical_crossentropy', metrics=['accuracy'])\n",
        "\n",
        "# Train the model for 10 epochs with training data and validate on test data\n",
        "model.fit(X_train, y_train, epochs=10, validation_data=(X_test, y_test))\n",
        "\n",
        "# Evaluate the model on the test set\n",
        "loss, accuracy = model.evaluate(X_test, y_test)\n",
        "print(f\"Test Loss: {loss:.4f}, Test Accuracy: {accuracy:.4f}\")"
      ],
      "metadata": {
        "colab": {
          "base_uri": "https://localhost:8080/"
        },
        "id": "pNrcjavAoyw9",
        "outputId": "3a3a4a91-aa24-4baf-fd4e-4899ee16a9cc"
      },
      "execution_count": 22,
      "outputs": [
        {
          "output_type": "stream",
          "name": "stdout",
          "text": [
            "Epoch 1/10\n",
            "\u001b[1m1750/1750\u001b[0m \u001b[32m━━━━━━━━━━━━━━━━━━━━\u001b[0m\u001b[37m\u001b[0m \u001b[1m11s\u001b[0m 4ms/step - accuracy: 0.7739 - loss: 0.9176 - val_accuracy: 0.9686 - val_loss: 0.0887\n",
            "Epoch 2/10\n",
            "\u001b[1m1750/1750\u001b[0m \u001b[32m━━━━━━━━━━━━━━━━━━━━\u001b[0m\u001b[37m\u001b[0m \u001b[1m7s\u001b[0m 2ms/step - accuracy: 0.9692 - loss: 0.0874 - val_accuracy: 0.9747 - val_loss: 0.0727\n",
            "Epoch 3/10\n",
            "\u001b[1m1750/1750\u001b[0m \u001b[32m━━━━━━━━━━━━━━━━━━━━\u001b[0m\u001b[37m\u001b[0m \u001b[1m4s\u001b[0m 3ms/step - accuracy: 0.9732 - loss: 0.0708 - val_accuracy: 0.9776 - val_loss: 0.0541\n",
            "Epoch 4/10\n",
            "\u001b[1m1750/1750\u001b[0m \u001b[32m━━━━━━━━━━━━━━━━━━━━\u001b[0m\u001b[37m\u001b[0m \u001b[1m3s\u001b[0m 2ms/step - accuracy: 0.9762 - loss: 0.0615 - val_accuracy: 0.9809 - val_loss: 0.0428\n",
            "Epoch 5/10\n",
            "\u001b[1m1750/1750\u001b[0m \u001b[32m━━━━━━━━━━━━━━━━━━━━\u001b[0m\u001b[37m\u001b[0m \u001b[1m5s\u001b[0m 3ms/step - accuracy: 0.9798 - loss: 0.0491 - val_accuracy: 0.9679 - val_loss: 0.0919\n",
            "Epoch 6/10\n",
            "\u001b[1m1750/1750\u001b[0m \u001b[32m━━━━━━━━━━━━━━━━━━━━\u001b[0m\u001b[37m\u001b[0m \u001b[1m4s\u001b[0m 2ms/step - accuracy: 0.9802 - loss: 0.0476 - val_accuracy: 0.9786 - val_loss: 0.0456\n",
            "Epoch 7/10\n",
            "\u001b[1m1750/1750\u001b[0m \u001b[32m━━━━━━━━━━━━━━━━━━━━\u001b[0m\u001b[37m\u001b[0m \u001b[1m3s\u001b[0m 2ms/step - accuracy: 0.9819 - loss: 0.0418 - val_accuracy: 0.9796 - val_loss: 0.0470\n",
            "Epoch 8/10\n",
            "\u001b[1m1750/1750\u001b[0m \u001b[32m━━━━━━━━━━━━━━━━━━━━\u001b[0m\u001b[37m\u001b[0m \u001b[1m7s\u001b[0m 3ms/step - accuracy: 0.9823 - loss: 0.0403 - val_accuracy: 0.9752 - val_loss: 0.0534\n",
            "Epoch 9/10\n",
            "\u001b[1m1750/1750\u001b[0m \u001b[32m━━━━━━━━━━━━━━━━━━━━\u001b[0m\u001b[37m\u001b[0m \u001b[1m3s\u001b[0m 2ms/step - accuracy: 0.9826 - loss: 0.0413 - val_accuracy: 0.9816 - val_loss: 0.0437\n",
            "Epoch 10/10\n",
            "\u001b[1m1750/1750\u001b[0m \u001b[32m━━━━━━━━━━━━━━━━━━━━\u001b[0m\u001b[37m\u001b[0m \u001b[1m3s\u001b[0m 2ms/step - accuracy: 0.9847 - loss: 0.0358 - val_accuracy: 0.9864 - val_loss: 0.0306\n",
            "\u001b[1m438/438\u001b[0m \u001b[32m━━━━━━━━━━━━━━━━━━━━\u001b[0m\u001b[37m\u001b[0m \u001b[1m1s\u001b[0m 1ms/step - accuracy: 0.9856 - loss: 0.0320\n",
            "Test Loss: 0.0306, Test Accuracy: 0.9864\n"
          ]
        }
      ]
    },
    {
      "cell_type": "code",
      "source": [
        "import numpy as np\n",
        "\n",
        "# Get a single sample from the test set (e.g., first test sample)\n",
        "single_sample_index = 2\n",
        "single_sample = X_test[single_sample_index].reshape(1, -1)\n",
        "\n",
        "# Make a prediction for the single sample\n",
        "single_prediction = model.predict(single_sample)\n",
        "\n",
        "# Get the predicted class index (argmax to get the most likely class)\n",
        "predicted_class = np.argmax(single_prediction, axis=1)\n",
        "\n",
        "# Convert the predicted class back to the workout name using the label encoder\n",
        "predicted_workout = label_encoder.inverse_transform(predicted_class)[0]\n",
        "\n",
        "# Get the corresponding row from the original dataset for this test sample\n",
        "df_single_test = df.iloc[X_test.shape[0]:].iloc[single_sample_index]  # Match the test indices to your original dataframe\n",
        "\n",
        "# Display the details of the predicted workout (repetitions, sets, and image)\n",
        "def display_workout_details_single(row, workout_name):\n",
        "    print(f\"Predicted Workout: {workout_name}\")\n",
        "    print(f\"Repetitions: {row['repetitions']}\")\n",
        "    print(f\"Sets: {row['sets']}\")\n",
        "    print(f\"Image URL: {row['image_url']}\")\n",
        "\n",
        "# Display the workout details for the single sample\n",
        "display_workout_details_single(df_single_test, predicted_workout)\n",
        "\n",
        "# Output the predicted workout\n",
        "print(f\"Predicted workout for the single sample: {predicted_workout}\")\n"
      ],
      "metadata": {
        "colab": {
          "base_uri": "https://localhost:8080/"
        },
        "id": "4g_pPZUdlcVb",
        "outputId": "41071970-44fe-4d4c-9de2-fb4691b0778a"
      },
      "execution_count": 23,
      "outputs": [
        {
          "output_type": "stream",
          "name": "stdout",
          "text": [
            "\u001b[1m1/1\u001b[0m \u001b[32m━━━━━━━━━━━━━━━━━━━━\u001b[0m\u001b[37m\u001b[0m \u001b[1m0s\u001b[0m 51ms/step\n",
            "Predicted Workout: squats, plank, lunges, pushups\n",
            "Repetitions: lunges: 15, plank: 45s, pushups: 20, crunches: 25, squats: 15\n",
            "Sets: lunges: 3, plank: 3, pushups: 3, crunches: 3, squats: 3\n",
            "Image URL: https://www.google.com/url?sa=i&url=https%3A%2F%2Fwww.healthshots.com%2Fhow-to%2Fsteps-to-perform-walking-lunges%2F&psig=AOvVaw0tiqmEIOWXTamJAkPy0Snb&ust=1728582624038000&source=images&cd=vfe&opi=89978449&ved=0CBQQjRxqGAoTCLC_7KHugYkDFQAAAAAdAAAAABCLAQ, https://thumbs.dreamstime.com/b/fitness-training-athletic-sporty-man-doing-plank-exercise-gym-yoga-class-exercising-workout-70718580.jpg, https://lasvegastoppicks.com/wp-content/uploads/2023/07/Pushups-on-Las-Vegas-Top-Picks.jpg, https://fitnessdrum.com/wp-content/uploads/2021/09/oblique-crunches-min.png, https://media1.popsugar-assets.com/files/thumbor/uymLdLwcsZuQzm4oFGNFY2QLl5g=/fit-in/792x792/filters:format_auto():upscale()/2023/12/21/819/n/1922729/tmp_UyrHy8_feb4a42e2a9b21aa_PS23_Fitness_Workout_13_Move_06_Goblet_Squat.jpg\n",
            "Predicted workout for the single sample: squats, plank, lunges, pushups\n"
          ]
        }
      ]
    },
    {
      "cell_type": "code",
      "source": [
        "import numpy as np\n",
        "from IPython.display import display, Image\n",
        "import requests\n",
        "from PIL import Image as PILImage\n",
        "from io import BytesIO\n",
        "\n",
        "# Get a single sample from the test set (e.g., first test sample)\n",
        "single_sample_index = 2\n",
        "single_sample = X_test[single_sample_index].reshape(1, -1)\n",
        "\n",
        "# Make a prediction for the single sample\n",
        "single_prediction = model.predict(single_sample)\n",
        "\n",
        "# Get the predicted class index (argmax to get the most likely class)\n",
        "predicted_class = np.argmax(single_prediction, axis=1)\n",
        "\n",
        "# Convert the predicted class back to the workout name using the label encoder\n",
        "predicted_workout = label_encoder.inverse_transform(predicted_class)[0]\n",
        "\n",
        "# Get the corresponding row from the original dataset for this test sample\n",
        "df_single_test = df.iloc[X_test.shape[0]:].iloc[single_sample_index]  # Match the test indices to your original dataframe\n",
        "\n",
        "# Function to display workout details for the single sample\n",
        "def display_workout_details_single(row, workout_name):\n",
        "    fitness_level = row['workout_level']  # Assuming fitness_level is part of your DataFrame\n",
        "\n",
        "    # Check if the predicted workout contains multiple workouts\n",
        "    workouts = workout_name.split(', ') if ', ' in workout_name else [workout_name]\n",
        "\n",
        "    print(f\"Predicted Workouts: {workouts}\")  # Debugging line\n",
        "\n",
        "    for workout in workouts:\n",
        "        # Debugging: Check if workout exists in workout_data\n",
        "        if workout in df:\n",
        "            repetitions = df[workout][fitness_level]['repetitions']\n",
        "            sets = df[workout][fitness_level]['sets']\n",
        "            image_url = row['image_url']  # Get the image URL from the dataset\n",
        "\n",
        "            print(f\"Predicted Workout: {workout}\")\n",
        "            print(f\"Repetitions: {repetitions}\")\n",
        "            print(f\"Sets: {sets}\")\n",
        "\n",
        "            # Display the image from the URL\n",
        "            try:\n",
        "                response = requests.get(image_url)\n",
        "                img = PILImage.open(BytesIO(response.content))\n",
        "                display(img)\n",
        "            except Exception as e:\n",
        "                print(f\"Could not display image for {workout}: {e}\")\n",
        "        else:\n",
        "            print(f\"Details for workout '{workout}' not found in workout_data. Available workouts: {list(workout_data.keys())}\")\n",
        "\n",
        "# Display the workout details for the single sample\n",
        "display_workout_details_single(df_single_test, predicted_workout)\n",
        "\n",
        "# Output the predicted workout\n",
        "print(f\"Predicted workout for the single sample: {predicted_workout}\")\n"
      ],
      "metadata": {
        "colab": {
          "base_uri": "https://localhost:8080/"
        },
        "id": "YveLlOB0rQZP",
        "outputId": "24608de6-8e6b-4080-d074-27c47e9f981d"
      },
      "execution_count": 31,
      "outputs": [
        {
          "output_type": "stream",
          "name": "stdout",
          "text": [
            "\u001b[1m1/1\u001b[0m \u001b[32m━━━━━━━━━━━━━━━━━━━━\u001b[0m\u001b[37m\u001b[0m \u001b[1m0s\u001b[0m 23ms/step\n",
            "Predicted Workouts: ['squats', 'plank', 'lunges', 'pushups']\n",
            "Details for workout 'squats' not found in workout_data. Available workouts: ['lunges', 'plank', 'pushups', 'crunches', 'squats']\n",
            "Details for workout 'plank' not found in workout_data. Available workouts: ['lunges', 'plank', 'pushups', 'crunches', 'squats']\n",
            "Details for workout 'lunges' not found in workout_data. Available workouts: ['lunges', 'plank', 'pushups', 'crunches', 'squats']\n",
            "Details for workout 'pushups' not found in workout_data. Available workouts: ['lunges', 'plank', 'pushups', 'crunches', 'squats']\n",
            "Predicted workout for the single sample: squats, plank, lunges, pushups\n"
          ]
        }
      ]
    }
  ]
}